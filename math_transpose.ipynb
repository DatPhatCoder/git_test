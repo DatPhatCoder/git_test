{
  "nbformat": 4,
  "nbformat_minor": 0,
  "metadata": {
    "colab": {
      "provenance": [],
      "authorship_tag": "ABX9TyMGa8HZ3wzhVZiA1YbQx/+1",
      "include_colab_link": true
    },
    "kernelspec": {
      "name": "python3",
      "display_name": "Python 3"
    },
    "language_info": {
      "name": "python"
    }
  },
  "cells": [
    {
      "cell_type": "markdown",
      "metadata": {
        "id": "view-in-github",
        "colab_type": "text"
      },
      "source": [
        "<a href=\"https://colab.research.google.com/github/DatPhatCoder/git_test/blob/main/math_transpose.ipynb\" target=\"_parent\"><img src=\"https://colab.research.google.com/assets/colab-badge.svg\" alt=\"Open In Colab\"/></a>"
      ]
    },
    {
      "cell_type": "code",
      "execution_count": 1,
      "metadata": {
        "id": "N6sKFbGpchUH"
      },
      "outputs": [],
      "source": [
        "import numpy as np\n",
        "import torch"
      ]
    },
    {
      "cell_type": "code",
      "source": [
        " #using numpy to transpose vector\n",
        "\n",
        " #create a vector\n",
        " nv = np.array([[1,2,3,4]])\n",
        " print(nv), print('')\n",
        "\n",
        " #transpose it\n",
        "print(nv.T), print('')\n",
        "\n",
        "#transpose the transpose\n",
        "nvT = nv.T\n",
        "print(nvT.T)"
      ],
      "metadata": {
        "colab": {
          "base_uri": "https://localhost:8080/"
        },
        "id": "cIJCpgbVcnn2",
        "outputId": "3f00229a-aca6-4daf-cef1-6bb86c7733bb"
      },
      "execution_count": 8,
      "outputs": [
        {
          "output_type": "stream",
          "name": "stdout",
          "text": [
            "[[1 2 3 4]]\n",
            "\n",
            "[[1]\n",
            " [2]\n",
            " [3]\n",
            " [4]]\n",
            "\n",
            "[[1 2 3 4]]\n"
          ]
        }
      ]
    },
    {
      "cell_type": "code",
      "source": [
        "#using numpy to transpose matrix\n",
        "nM = np.array([[1,2,3,4],\n",
        "               [5,6,7,8]\n",
        "               ])\n",
        "print(nM), print('')\n",
        "\n",
        "#tranpose it\n",
        "print(nM.T), print('')\n",
        "\n",
        "#tranpose the transpose\n",
        "nMT = nM.T\n",
        "print(nMT.T)"
      ],
      "metadata": {
        "colab": {
          "base_uri": "https://localhost:8080/"
        },
        "id": "rCoBWvTvdOwW",
        "outputId": "78640a71-aff4-4a25-ef9e-349a47011bfa"
      },
      "execution_count": 12,
      "outputs": [
        {
          "output_type": "stream",
          "name": "stdout",
          "text": [
            "[[1 2 3 4]\n",
            " [5 6 7 8]]\n",
            "\n",
            "[[1 5]\n",
            " [2 6]\n",
            " [3 7]\n",
            " [4 8]]\n",
            "\n",
            "[[1 2 3 4]\n",
            " [5 6 7 8]]\n"
          ]
        }
      ]
    },
    {
      "cell_type": "code",
      "source": [
        "#using pytorch to tranpose a vector\n",
        "\n",
        "#create a vector\n",
        "tv = torch.tensor([[1,2,3,4]])\n",
        "print(tv), print('')\n",
        "\n",
        "#tranpose it\n",
        "print(tv.T), print('')\n",
        "\n",
        "#tranpose the tranpose\n",
        "tvT = tv.T\n",
        "print(tvT.T)"
      ],
      "metadata": {
        "colab": {
          "base_uri": "https://localhost:8080/"
        },
        "id": "cB_cy0MgexfX",
        "outputId": "331a636b-1017-4bb8-a18d-5922a95b5aa1"
      },
      "execution_count": 14,
      "outputs": [
        {
          "output_type": "stream",
          "name": "stdout",
          "text": [
            "tensor([[1, 2, 3, 4]])\n",
            "\n",
            "tensor([[1],\n",
            "        [2],\n",
            "        [3],\n",
            "        [4]])\n",
            "\n",
            "tensor([[1, 2, 3, 4]])\n"
          ]
        }
      ]
    },
    {
      "cell_type": "code",
      "source": [
        "#using pytorch to tranpose a matrix\n",
        "\n",
        "#create a matrix\n",
        "tm = torch.tensor([[1,2,3,4],[5,6,7,8]])\n",
        "print(tm), print('')\n",
        "\n",
        "#tranpose it\n",
        "print(tm.T), print('')\n",
        "\n",
        "#tranpose the tranpose\n",
        "tmT = tm.T\n",
        "print(tmT.T)"
      ],
      "metadata": {
        "colab": {
          "base_uri": "https://localhost:8080/"
        },
        "id": "vfYaBSRahTly",
        "outputId": "aaf095f5-7daf-4a35-f18a-71a5f66119ff"
      },
      "execution_count": 16,
      "outputs": [
        {
          "output_type": "stream",
          "name": "stdout",
          "text": [
            "tensor([[1, 2, 3, 4],\n",
            "        [5, 6, 7, 8]])\n",
            "\n",
            "tensor([[1, 5],\n",
            "        [2, 6],\n",
            "        [3, 7],\n",
            "        [4, 8]])\n",
            "\n",
            "tensor([[1, 2, 3, 4],\n",
            "        [5, 6, 7, 8]])\n"
          ]
        }
      ]
    },
    {
      "cell_type": "code",
      "source": [
        "#examine data types\n",
        "print(f'Variable nv is of type {type(nv)}')\n",
        "print(f'Variable nv is of type {type(nM)}')\n",
        "print(f'Variable nv is of type {type(tv)}')\n",
        "print(f'Variable nv is of type {type(tm)}')"
      ],
      "metadata": {
        "colab": {
          "base_uri": "https://localhost:8080/"
        },
        "id": "RKTFlvFRh80s",
        "outputId": "8e63406e-928a-4cd3-ed23-9a81b9ba82e6"
      },
      "execution_count": 19,
      "outputs": [
        {
          "output_type": "stream",
          "name": "stdout",
          "text": [
            "Variable nv is of type <class 'numpy.ndarray'>\n",
            "Variable nv is of type <class 'numpy.ndarray'>\n",
            "Variable nv is of type <class 'torch.Tensor'>\n",
            "Variable nv is of type <class 'torch.Tensor'>\n"
          ]
        }
      ]
    },
    {
      "cell_type": "code",
      "source": [],
      "metadata": {
        "id": "rc_ADspVip_Y"
      },
      "execution_count": null,
      "outputs": []
    }
  ]
}